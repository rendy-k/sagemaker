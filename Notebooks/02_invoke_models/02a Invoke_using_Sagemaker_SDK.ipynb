{
 "cells": [
  {
   "cell_type": "markdown",
   "metadata": {},
   "source": [
    "# Invoke Model Endpoint:\n",
    "\n",
    "## 1. Client to Endpoint using Sagemaker SDK\n",
    "\n",
    "Previous activity: completing the model training and model endpoint deployment."
   ]
  },
  {
   "cell_type": "code",
   "execution_count": 1,
   "metadata": {},
   "outputs": [],
   "source": [
    "import boto3\n",
    "import sagemaker\n",
    "import pandas as pd\n",
    "\n",
    "from sagemaker.serializers import CSVSerializer\n",
    "from sagemaker.deserializers import JSONDeserializer"
   ]
  },
  {
   "cell_type": "code",
   "execution_count": 2,
   "metadata": {},
   "outputs": [],
   "source": [
    "# Start a sagemaker session with \"user\"\n",
    "boto3_session = boto3.Session(\n",
    "    profile_name=\"user\", region_name=\"ap-southeast-1\")\n",
    "sess = sagemaker.Session(boto_session=boto3_session)"
   ]
  },
  {
   "cell_type": "code",
   "execution_count": 3,
   "metadata": {},
   "outputs": [],
   "source": [
    "# Create the predictor\n",
    "predictor = sagemaker.predictor.Predictor(\n",
    "    endpoint_name=\"xgboost-loan\", sagemaker_session=sess\n",
    ")\n",
    "predictor.serializer = CSVSerializer()"
   ]
  },
  {
   "cell_type": "code",
   "execution_count": 4,
   "metadata": {},
   "outputs": [],
   "source": [
    "# Prepare the input data sample\n",
    "input_sample_1 = \"1.0, 1.0, 0.0, 1.0, 0.0, 2083.0, 3150.0, 128.0, 360.0, 1.0, 0.0, 1.0, 0.0\"  # true value: 1\n",
    "input_sample_2 = \"1.0, 0.0, 0.0, 0.0, 0.0, 2333.0, 1451.0, 102.0, 480.0, 0.0, 0.0, 0.0, 1.0\"  # true value: 0\n",
    "input_sample_3 = \"1.0, 1.0, 1.0, 1.0, 0.0, 6325.0, 0.0, 175.0, 360.0, 1.0, 0.0, 1.0, 0.0\"  # true value: 1"
   ]
  },
  {
   "cell_type": "code",
   "execution_count": 5,
   "metadata": {},
   "outputs": [
    {
     "data": {
      "text/plain": [
       "'1.0,0.0,1.0'"
      ]
     },
     "execution_count": 5,
     "metadata": {},
     "output_type": "execute_result"
    }
   ],
   "source": [
    "# Invoke the prediction\n",
    "pred = predictor.predict([input_sample_1, input_sample_2, input_sample_3])\n",
    "pred.decode(\"utf-8\")"
   ]
  },
  {
   "cell_type": "code",
   "execution_count": 6,
   "metadata": {},
   "outputs": [
    {
     "name": "stdout",
     "output_type": "stream",
     "text": [
      "The length of the test data is 96\n"
     ]
    }
   ],
   "source": [
    "# Load test data\n",
    "test_data = pd.read_csv(\"D:/3. Projects/AWS Sagemaker/others/loan_test_data.csv\")\n",
    "print(f\"The length of the test data is {len(test_data)}\")"
   ]
  },
  {
   "cell_type": "code",
   "execution_count": 7,
   "metadata": {},
   "outputs": [],
   "source": [
    "# Load test data\n",
    "test_input = []\n",
    "with open(\"D:/3. Projects/AWS Sagemaker/others/loan_test_data.csv\", 'r') as f:\n",
    "    f.readline()\n",
    "    test_input = f.readlines()"
   ]
  },
  {
   "cell_type": "code",
   "execution_count": 8,
   "metadata": {},
   "outputs": [],
   "source": [
    "# Batch Prediction\n",
    "def transform(data):\n",
    "    feature = data.split(',')\n",
    "\n",
    "    if feature[1] == \"Male\":\n",
    "        feature[1] = \"1\"\n",
    "    else:\n",
    "        feature[1] = \"0\"\n",
    "\n",
    "    if feature[2] == \"Yes\":\n",
    "        feature[2] = \"1\"\n",
    "    else:\n",
    "        feature[2] = \"0\"\n",
    "\n",
    "    if feature[3] == \"3+\":\n",
    "        feature[3] = \"3\"\n",
    "    else:\n",
    "        feature[3] = feature[3]\n",
    "\n",
    "    if feature[4] == \"Graduate\":\n",
    "        feature[4] = \"1\"\n",
    "    else:\n",
    "        feature[4] = \"0\"\n",
    "\n",
    "    if feature[5] == \"Yes\":\n",
    "        feature[5] = \"1\"\n",
    "    else:\n",
    "        feature[5] = \"0\"\n",
    "\n",
    "    feature.extend([\"0\", \"0\", \"0\"])\n",
    "\n",
    "    if feature[11] == \"Rural\":\n",
    "        feature[12] = \"1\"\n",
    "    elif feature[11] == \"Semiurban\":\n",
    "        feature[13] = \"1\"\n",
    "    elif feature[11] == \"Urban\":\n",
    "        feature[14] = \"1\"\n",
    "    feature.pop(11)\n",
    "\n",
    "    feature = ','.join(feature[1:])\n",
    "\n",
    "    return feature\n",
    "\n",
    "\n",
    "def batch_prediction(test_input, batch_size):\n",
    "    predictions = []\n",
    "\n",
    "    # Transform input data\n",
    "    test_input = [transform(row.strip()) for row in test_input]\n",
    "\n",
    "    for i in range(0, len(test_input), batch_size):\n",
    "        print(f\"predicting row {i}\")\n",
    "\n",
    "        # Predict the test data\n",
    "        pred = predictor.predict(test_input[i:batch_size+1])\n",
    "        pred = pred.decode(\"utf-8\")\n",
    "        pred = pred.split(',')\n",
    "        predictions += pred\n",
    "\n",
    "    return predictions"
   ]
  },
  {
   "cell_type": "code",
   "execution_count": 10,
   "metadata": {},
   "outputs": [
    {
     "name": "stdout",
     "output_type": "stream",
     "text": [
      "predicting row 0\n"
     ]
    },
    {
     "data": {
      "text/plain": [
       "['1.0',\n",
       " '0.0',\n",
       " '1.0',\n",
       " '1.0',\n",
       " '1.0',\n",
       " '1.0',\n",
       " '1.0',\n",
       " '1.0',\n",
       " '0.0',\n",
       " '1.0',\n",
       " '0.0',\n",
       " '1.0',\n",
       " '1.0',\n",
       " '1.0',\n",
       " '1.0',\n",
       " '1.0',\n",
       " '0.0',\n",
       " '1.0',\n",
       " '1.0',\n",
       " '0.0',\n",
       " '1.0',\n",
       " '1.0',\n",
       " '1.0',\n",
       " '1.0',\n",
       " '1.0',\n",
       " '1.0',\n",
       " '1.0',\n",
       " '1.0',\n",
       " '1.0',\n",
       " '1.0',\n",
       " '1.0',\n",
       " '1.0',\n",
       " '1.0',\n",
       " '1.0',\n",
       " '1.0',\n",
       " '1.0',\n",
       " '1.0',\n",
       " '1.0',\n",
       " '1.0',\n",
       " '1.0',\n",
       " '1.0',\n",
       " '1.0',\n",
       " '1.0',\n",
       " '1.0',\n",
       " '1.0',\n",
       " '1.0',\n",
       " '1.0',\n",
       " '1.0',\n",
       " '1.0',\n",
       " '1.0',\n",
       " '1.0',\n",
       " '1.0',\n",
       " '1.0',\n",
       " '1.0',\n",
       " '0.0',\n",
       " '1.0',\n",
       " '1.0',\n",
       " '1.0',\n",
       " '0.0',\n",
       " '1.0',\n",
       " '1.0',\n",
       " '1.0',\n",
       " '1.0',\n",
       " '1.0',\n",
       " '1.0',\n",
       " '1.0',\n",
       " '1.0',\n",
       " '1.0',\n",
       " '0.0',\n",
       " '1.0',\n",
       " '1.0',\n",
       " '1.0',\n",
       " '1.0',\n",
       " '1.0',\n",
       " '1.0',\n",
       " '0.0',\n",
       " '0.0',\n",
       " '1.0',\n",
       " '1.0',\n",
       " '1.0',\n",
       " '1.0',\n",
       " '1.0',\n",
       " '1.0',\n",
       " '1.0',\n",
       " '0.0',\n",
       " '1.0',\n",
       " '1.0',\n",
       " '1.0',\n",
       " '1.0',\n",
       " '1.0',\n",
       " '1.0',\n",
       " '1.0',\n",
       " '1.0',\n",
       " '1.0',\n",
       " '0.0',\n",
       " '1.0']"
      ]
     },
     "execution_count": 10,
     "metadata": {},
     "output_type": "execute_result"
    }
   ],
   "source": [
    "# Batch prediction on the test data\n",
    "pred = batch_prediction(test_input, 96)\n",
    "pred"
   ]
  },
  {
   "cell_type": "code",
   "execution_count": 11,
   "metadata": {},
   "outputs": [
    {
     "name": "stdout",
     "output_type": "stream",
     "text": [
      "Number of predictions: 96\n"
     ]
    }
   ],
   "source": [
    "# Number of predictions\n",
    "print(f\"Number of predictions: {len(pred)}\")"
   ]
  },
  {
   "cell_type": "markdown",
   "metadata": {},
   "source": [
    "Finally, delete the endpoint (if not used anymore)"
   ]
  }
 ],
 "metadata": {
  "kernelspec": {
   "display_name": "Python 3",
   "language": "python",
   "name": "python3"
  },
  "language_info": {
   "codemirror_mode": {
    "name": "ipython",
    "version": 3
   },
   "file_extension": ".py",
   "mimetype": "text/x-python",
   "name": "python",
   "nbconvert_exporter": "python",
   "pygments_lexer": "ipython3",
   "version": "3.8.6rc1"
  },
  "toc": {
   "base_numbering": 1,
   "nav_menu": {},
   "number_sections": true,
   "sideBar": true,
   "skip_h1_title": false,
   "title_cell": "Table of Contents",
   "title_sidebar": "Contents",
   "toc_cell": false,
   "toc_position": {},
   "toc_section_display": true,
   "toc_window_display": false
  },
  "varInspector": {
   "cols": {
    "lenName": 16,
    "lenType": 16,
    "lenVar": 40
   },
   "kernels_config": {
    "python": {
     "delete_cmd_postfix": "",
     "delete_cmd_prefix": "del ",
     "library": "var_list.py",
     "varRefreshCmd": "print(var_dic_list())"
    },
    "r": {
     "delete_cmd_postfix": ") ",
     "delete_cmd_prefix": "rm(",
     "library": "var_list.r",
     "varRefreshCmd": "cat(var_dic_list()) "
    }
   },
   "types_to_exclude": [
    "module",
    "function",
    "builtin_function_or_method",
    "instance",
    "_Feature"
   ],
   "window_display": false
  }
 },
 "nbformat": 4,
 "nbformat_minor": 4
}
