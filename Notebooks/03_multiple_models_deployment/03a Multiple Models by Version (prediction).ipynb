{
 "cells": [
  {
   "cell_type": "markdown",
   "metadata": {},
   "source": [
    "# Multiple Models by Versions"
   ]
  },
  {
   "cell_type": "markdown",
   "metadata": {},
   "source": [
    "## Model predictions"
   ]
  },
  {
   "cell_type": "code",
   "execution_count": 1,
   "metadata": {},
   "outputs": [],
   "source": [
    "import numpy as np\n",
    "import pandas as pd\n",
    "import sagemaker\n",
    "from sagemaker import get_execution_role\n",
    "from sagemaker.serializers import CSVSerializer"
   ]
  },
  {
   "cell_type": "code",
   "execution_count": 2,
   "metadata": {},
   "outputs": [],
   "source": [
    "# load test data\n",
    "test = pd.read_csv(\"test.csv\")\n",
    "test = test.iloc[:,1:].values"
   ]
  },
  {
   "cell_type": "code",
   "execution_count": 3,
   "metadata": {},
   "outputs": [],
   "source": [
    "# Load model\n",
    "xgb_model = sagemaker.predictor.Predictor(endpoint_name=\"xgboost-loan-byVersion\")\n",
    "xgb_model.serializer = CSVSerializer()"
   ]
  },
  {
   "cell_type": "code",
   "execution_count": 4,
   "metadata": {},
   "outputs": [
    {
     "name": "stdout",
     "output_type": "stream",
     "text": [
      "1.0,1.0,1.\n"
     ]
    }
   ],
   "source": [
    "# target_variant=None, endpoint distributes the test data based on the model weight.\n",
    "pred1 = xgb_model.predict(test, target_variant=None).decode('utf-8')\n",
    "print(pred1[:10])"
   ]
  },
  {
   "cell_type": "code",
   "execution_count": 5,
   "metadata": {},
   "outputs": [
    {
     "data": {
      "text/plain": [
       "array([1., 1., 1., 1., 1.])"
      ]
     },
     "execution_count": 5,
     "metadata": {},
     "output_type": "execute_result"
    }
   ],
   "source": [
    "pred1 = np.fromstring(pred1, sep=',')\n",
    "pred1[:5]"
   ]
  },
  {
   "cell_type": "code",
   "execution_count": 6,
   "metadata": {},
   "outputs": [],
   "source": [
    "# target_variant=0.90-1\n",
    "pred2 = xgb_model.predict(test, target_variant=\"version-0-90-1\").decode('utf-8')  \n",
    "pred2 = np.fromstring(pred2, sep=',')\n",
    "\n",
    "# target_variant=1.3-1\n",
    "pred3 = xgb_model.predict(test, target_variant=\"version-1-3-1\").decode('utf-8')\n",
    "pred3 = np.fromstring(pred3, sep=',')"
   ]
  },
  {
   "cell_type": "code",
   "execution_count": 7,
   "metadata": {},
   "outputs": [
    {
     "name": "stdout",
     "output_type": "stream",
     "text": [
      "\n",
      "The number of predictions when:\n",
      "None = 0.90-1 = 1.3-1: 95\n",
      "None = 0.90-1 >< 1.3-1: 0\n",
      "None >< 0.90-1 = 1.3-1: 0\n",
      "None = 1.3-1 >< 0.90-1: 0\n",
      "\n"
     ]
    }
   ],
   "source": [
    "print(f\"\"\"\n",
    "The number of predictions when:\n",
    "None = 0.90-1 = 1.3-1: {(sum((pred1 == pred2) & (pred2 == pred3)))}\n",
    "None = 0.90-1 >< 1.3-1: {(sum((pred1 == pred2) & (pred2 != pred3)))}\n",
    "None >< 0.90-1 = 1.3-1: {(sum((pred1 != pred2) & (pred2 == pred3)))}\n",
    "None = 1.3-1 >< 0.90-1: {(sum((pred1 == pred3) & (pred2 != pred3)))}\n",
    "\"\"\")"
   ]
  },
  {
   "cell_type": "code",
   "execution_count": null,
   "metadata": {},
   "outputs": [],
   "source": [
    "# Delete the endpoints if not needed anymore.\n",
    "# xgb_model.delete_endpoint()"
   ]
  }
 ],
 "metadata": {
  "kernelspec": {
   "display_name": "Python 3",
   "language": "python",
   "name": "python3"
  },
  "language_info": {
   "codemirror_mode": {
    "name": "ipython",
    "version": 3
   },
   "file_extension": ".py",
   "mimetype": "text/x-python",
   "name": "python",
   "nbconvert_exporter": "python",
   "pygments_lexer": "ipython3",
   "version": "3.8.6rc1"
  },
  "toc": {
   "base_numbering": 1,
   "nav_menu": {},
   "number_sections": true,
   "sideBar": true,
   "skip_h1_title": false,
   "title_cell": "Table of Contents",
   "title_sidebar": "Contents",
   "toc_cell": false,
   "toc_position": {},
   "toc_section_display": true,
   "toc_window_display": false
  },
  "varInspector": {
   "cols": {
    "lenName": 16,
    "lenType": 16,
    "lenVar": 40
   },
   "kernels_config": {
    "python": {
     "delete_cmd_postfix": "",
     "delete_cmd_prefix": "del ",
     "library": "var_list.py",
     "varRefreshCmd": "print(var_dic_list())"
    },
    "r": {
     "delete_cmd_postfix": ") ",
     "delete_cmd_prefix": "rm(",
     "library": "var_list.r",
     "varRefreshCmd": "cat(var_dic_list()) "
    }
   },
   "types_to_exclude": [
    "module",
    "function",
    "builtin_function_or_method",
    "instance",
    "_Feature"
   ],
   "window_display": false
  }
 },
 "nbformat": 4,
 "nbformat_minor": 4
}
