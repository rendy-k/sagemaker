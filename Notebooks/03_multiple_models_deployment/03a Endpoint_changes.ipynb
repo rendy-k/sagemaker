{
 "cells": [
  {
   "cell_type": "markdown",
   "metadata": {},
   "source": [
    "# Endpoint Changes\n",
    "\n",
    "## a. Multiple Production Variants\n",
    "\n",
    "Previous activity: preparing and splitting data"
   ]
  },
  {
   "cell_type": "code",
   "execution_count": null,
   "metadata": {},
   "outputs": [],
   "source": [
    "import numpy as np\n",
    "import pandas as pd\n",
    "import boto3\n",
    "import re\n",
    "import sagemaker\n",
    "from sagemaker import get_execution_role"
   ]
  },
  {
   "cell_type": "code",
   "execution_count": null,
   "metadata": {},
   "outputs": [],
   "source": [
    "# Set the file directories\n",
    "bucket_name = \"sagemaker-loan-classification\"\n",
    "prefix = \"xgboost\"\n",
    "\n",
    "# Set input and output paths for sagemaker\n",
    "input_train = sagemaker.TrainingInput(\n",
    "    s3_data=f\"s3://{bucket_name}/{prefix}/train\", content_type=\"csv\")\n",
    "input_test = sagemaker.TrainingInput(\n",
    "    s3_data=f\"s3://{bucket_name}/{prefix}/test\", content_type=\"csv\")\n",
    "output_path = f\"s3://{bucket_name}/{prefix}/saved_model\""
   ]
  },
  {
   "cell_type": "code",
   "execution_count": null,
   "metadata": {},
   "outputs": [],
   "source": [
    "# Build the estimator\n",
    "def xgboost_fit(version, use_spot_instance=False, max_run=3200, max_wait=7200):\n",
    "    name = f\"xgboost-loan-{version}\"\n",
    "    print(f\"Running XGBoost version: {}\")\n",
    "\n",
    "    # Set checkpoint if use spot instance\n",
    "    checkpoint = None\n",
    "    if use_spot_instances == True:\n",
    "        checkpoint = f\"s3://{bucket_name}/bikerental/checkpoints/{job_name}\"\n",
    "        print(f\"Checkout point: {checkpoint}\")\n",
    "        max_wait = None\n",
    "\n",
    "    # Use the specified version of XGBoost\n",
    "    container = sagemaker.image_uris.retrieve(\"xgboost\",\n",
    "                                              sagemaker.Session().boto_region_name,\n",
    "                                              version=version)\n",
    "\n",
    "    xgb = sagemaker.estimator.Estimator(\n",
    "        image_uri=container,\n",
    "        role=sagemaker.get_execution_role(),\n",
    "        instance_count=1,\n",
    "        instance_type=\"ml.m5.xlarge\",\n",
    "        output_path=output_path,\n",
    "        sagemaker_session=sagemaker.Session(),\n",
    "        checkpoint_s3_uri=checkpoint\n",
    "        use_spot_instance=use_spot_instance,\n",
    "        max_run=max_run,\n",
    "        max_wait=max_wait,\n",
    "        base_job_name=name,\n",
    "    )\n",
    "\n",
    "    # Set the hyperparameters\n",
    "    xgb.set_hyperparameters(\n",
    "        colsample_bytree=0.478,\n",
    "        gamma=2.387,\n",
    "        eta=0.175,\n",
    "        max_depth=15,\n",
    "        min_child_weight=7,\n",
    "        num_round=86,\n",
    "        subsample=0.80,\n",
    "        num_class=2,\n",
    "        objective=\"multi:softmax\",\n",
    "    )\n",
    "\n",
    "    # Fit the model\n",
    "    xgb.fit(\n",
    "        {\n",
    "            \"train\": input_train,\n",
    "            \"validation\": input_test\n",
    "        }\n",
    "    )\n",
    "\n",
    "    # Return job name\n",
    "    return xgb.latest_training_job.name"
   ]
  }
 ],
 "metadata": {
  "kernelspec": {
   "display_name": "Python 3",
   "language": "python",
   "name": "python3"
  },
  "language_info": {
   "codemirror_mode": {
    "name": "ipython",
    "version": 3
   },
   "file_extension": ".py",
   "mimetype": "text/x-python",
   "name": "python",
   "nbconvert_exporter": "python",
   "pygments_lexer": "ipython3",
   "version": "3.8.6rc1"
  },
  "toc": {
   "base_numbering": 1,
   "nav_menu": {},
   "number_sections": true,
   "sideBar": true,
   "skip_h1_title": false,
   "title_cell": "Table of Contents",
   "title_sidebar": "Contents",
   "toc_cell": false,
   "toc_position": {},
   "toc_section_display": true,
   "toc_window_display": false
  },
  "varInspector": {
   "cols": {
    "lenName": 16,
    "lenType": 16,
    "lenVar": 40
   },
   "kernels_config": {
    "python": {
     "delete_cmd_postfix": "",
     "delete_cmd_prefix": "del ",
     "library": "var_list.py",
     "varRefreshCmd": "print(var_dic_list())"
    },
    "r": {
     "delete_cmd_postfix": ") ",
     "delete_cmd_prefix": "rm(",
     "library": "var_list.r",
     "varRefreshCmd": "cat(var_dic_list()) "
    }
   },
   "types_to_exclude": [
    "module",
    "function",
    "builtin_function_or_method",
    "instance",
    "_Feature"
   ],
   "window_display": false
  }
 },
 "nbformat": 4,
 "nbformat_minor": 4
}
