{
 "cells": [
  {
   "cell_type": "markdown",
   "metadata": {},
   "source": [
    "# 8 DeepAR\n",
    "## b Traning on cloud\n",
    "Data source: [kaggle_DailyDelhiClimate](https://www.kaggle.com/sumanthvrao/daily-climate-time-series-data?select=DailyDelhiClimateTrain.csv])"
   ]
  },
  {
   "cell_type": "code",
   "execution_count": 1,
   "metadata": {},
   "outputs": [],
   "source": [
    "import time\n",
    "import numpy as np\n",
    "import pandas as pd\n",
    "import json\n",
    "import matplotlib.pyplot as plt\n",
    "import datetime\n",
    "import boto3\n",
    "import sagemaker\n",
    "from sagemaker import get_execution_role\n",
    "from sagemaker.amazon.amazon_estimator import get_image_uri"
   ]
  },
  {
   "cell_type": "code",
   "execution_count": null,
   "metadata": {},
   "outputs": [],
   "source": [
    "# Set the path for the train data, validation data, test data, and saved model\n",
    "bucket_name = 'sagemaker-tutorial-rnd'\n",
    "prefix = \"DeepAR\"\n",
    "\n",
    "model_output = f\"s3://{bucket_name}/{prefix}/saved_model\"\n",
    "train_input = f\"s3://{bucket_name}/{prefix}/train/\"\n",
    "val_input = f\"s3://{bucket_name}/{prefix}/val/\"\n",
    "test_input = f\"s3://{bucket_name}/{prefix}/test/\"\n",
    "\n",
    "print(sagemaker.Session().boto_region_name)"
   ]
  },
  {
   "cell_type": "code",
   "execution_count": null,
   "metadata": {},
   "outputs": [],
   "source": [
    "session = sagemaker.Session()\n",
    "role = get_execution_role()\n",
    "image = get_image_uri(boto3.Session().region_name, 'forecasting-deepar')\n",
    "\n",
    "print(f\"sagemaker session: {session}\")\n",
    "print(f\"role: {role}\")\n",
    "print(f\"image: {image}\")"
   ]
  },
  {
   "cell_type": "code",
   "execution_count": null,
   "metadata": {},
   "outputs": [],
   "source": [
    "# Set how far the prediction length is\n",
    "prediction_length = 26\n",
    "\n",
    "# Set how far in the past the network can see.\n",
    "# It is recommended to set it to be the same as prediction_length\n",
    "context_length = 26\n",
    "job_name = \"deepar-climate\"\n",
    "\n",
    "DeepAR_estimator = sagemaker.estimator.Estimator(\n",
    "    image_name=image,\n",
    "    role=role,\n",
    "    sagemaker_session=session,\n",
    "    train_instance_count=1,\n",
    "    train_instance_type=\"ml.m5.xlarge\",\n",
    "    base_job_name=job_name,\n",
    "    output_path=model_output\n",
    ")\n",
    "\n",
    "hyperparameters = {\n",
    "    \"time_freq\": \"w\", # weekly time frequency\n",
    "    \"epochs\": \"400\",\n",
    "    \"early_stopping_patience\": \"40\",\n",
    "    \"mini_batch_size\": \"64\",\n",
    "    \"learning_rate\": \"5E-4\",\n",
    "    \"context_length\": str(context_length),\n",
    "    \"prediction_length\": str(prediction_length),\n",
    "    \"cardinality\" : \"auto\" if with_categories else \"\"\n",
    "}\n",
    "\n",
    "DeepAR_estimator.set_hyperparameters(**hyperparameters)\n",
    "\n",
    "DeepAR_estimator.fit(\n",
    "    inputs = {\n",
    "        \"train\":train_input,\n",
    "        \"test\":val_input:\n",
    "    }\n",
    ")"
   ]
  },
  {
   "cell_type": "code",
   "execution_count": null,
   "metadata": {},
   "outputs": [],
   "source": [
    "# Deploy the model\n",
    "DeepAR_predictor = DeepAR_estimator.deploy(\n",
    "    initial_instance_count=1,\n",
    "    instance_type='ml.m5.xlarge',\n",
    "    endpoint_name=job_name\n",
    ")"
   ]
  }
 ],
 "metadata": {
  "kernelspec": {
   "display_name": "Python 3",
   "language": "python",
   "name": "python3"
  },
  "language_info": {
   "codemirror_mode": {
    "name": "ipython",
    "version": 3
   },
   "file_extension": ".py",
   "mimetype": "text/x-python",
   "name": "python",
   "nbconvert_exporter": "python",
   "pygments_lexer": "ipython3",
   "version": "3.8.6rc1"
  },
  "toc": {
   "base_numbering": 1,
   "nav_menu": {},
   "number_sections": true,
   "sideBar": true,
   "skip_h1_title": false,
   "title_cell": "Table of Contents",
   "title_sidebar": "Contents",
   "toc_cell": false,
   "toc_position": {},
   "toc_section_display": true,
   "toc_window_display": false
  },
  "varInspector": {
   "cols": {
    "lenName": 16,
    "lenType": 16,
    "lenVar": 40
   },
   "kernels_config": {
    "python": {
     "delete_cmd_postfix": "",
     "delete_cmd_prefix": "del ",
     "library": "var_list.py",
     "varRefreshCmd": "print(var_dic_list())"
    },
    "r": {
     "delete_cmd_postfix": ") ",
     "delete_cmd_prefix": "rm(",
     "library": "var_list.r",
     "varRefreshCmd": "cat(var_dic_list()) "
    }
   },
   "types_to_exclude": [
    "module",
    "function",
    "builtin_function_or_method",
    "instance",
    "_Feature"
   ],
   "window_display": false
  }
 },
 "nbformat": 4,
 "nbformat_minor": 4
}
