{
 "cells": [
  {
   "cell_type": "markdown",
   "metadata": {},
   "source": [
    "# Dimensionality Reduction: Principal Component Analysis\n",
    "## 3. PCA using sagemaker"
   ]
  },
  {
   "cell_type": "code",
   "execution_count": 1,
   "metadata": {},
   "outputs": [],
   "source": [
    "import numpy as np\n",
    "import pandas as pd\n",
    "\n",
    "import boto3\n",
    "import sagemaker\n",
    "from sagemaker import get_execution_role\n",
    "from sagemaker.serializers import CSVSerializer\n",
    "from sagemaker.deserializers import JSONDeserializer"
   ]
  },
  {
   "cell_type": "code",
   "execution_count": 2,
   "metadata": {},
   "outputs": [
    {
     "name": "stdout",
     "output_type": "stream",
     "text": [
      "ap-southeast-1\n"
     ]
    }
   ],
   "source": [
    "# Set the output path for the saved model\n",
    "bucket_name = 'sagemaker-tutorial-rnd'\n",
    "prefix = \"PCA\"\n",
    "\n",
    "model_output = f\"s3://{bucket_name}/{prefix}/saved_model\"\n",
    "train_input = sagemaker.TrainingInput(\n",
    "    f\"s3://{bucket_name}/{prefix}/train/environment_train.csv\", content_type=\"text/csv;label_size=0\")\n",
    "# Store the standardized data in S3 bucket\n",
    "\n",
    "print(sagemaker.Session().boto_region_name)"
   ]
  },
  {
   "cell_type": "markdown",
   "metadata": {},
   "source": [
    "## Training and Deploying"
   ]
  },
  {
   "cell_type": "code",
   "execution_count": 3,
   "metadata": {},
   "outputs": [],
   "source": [
    "# Create estimator\n",
    "container = sagemaker.image_uris.retrieve(\n",
    "    \"pca\", sagemaker.Session().boto_region_name)\n",
    "\n",
    "base_job_name = \"pca-environment\"\n",
    "\n",
    "pca_estimator = sagemaker.estimator.Estimator(\n",
    "    container,\n",
    "    role=get_execution_role(),\n",
    "    instance_count=1,\n",
    "    instance_type='ml.m5.xlarge',\n",
    "    output_path=model_output,\n",
    "    sagemaker_session=sagemaker.Session(),\n",
    "    use_spot_instances=False,\n",
    "    max_run=3600,\n",
    "    # max_wait=3600,\n",
    "    # checkpoint_s3_uri=f\"s3://{bucket_name}/{prefix}/checkpoints/{base_job_name}\",\n",
    "    base_job_name=base_job_name,\n",
    ")\n",
    "\n",
    "pca_estimator.set_hyperparameters(\n",
    "    feature_dim=7,\n",
    "    num_components=3,  # because 3 components has explained variance of 99%\n",
    "    subtract_mean=False,  # because it is already standardized\n",
    "    algorithm_mode='regular',\n",
    "    mini_batch_size=1000\n",
    ")"
   ]
  },
  {
   "cell_type": "code",
   "execution_count": 4,
   "metadata": {},
   "outputs": [
    {
     "name": "stdout",
     "output_type": "stream",
     "text": [
      "2022-02-05 11:17:28 Starting - Starting the training job...\n",
      "2022-02-05 11:17:52 Starting - Preparing the instances for trainingProfilerReport-1644059848: InProgress\n",
      "......\n",
      "2022-02-05 11:18:59 Downloading - Downloading input data...\n",
      "2022-02-05 11:19:24 Training - Downloading the training image...\n",
      "2022-02-05 11:19:55 Uploading - Uploading generated training model\u001b[34mDocker entrypoint called with argument(s): train\u001b[0m\n",
      "\u001b[34mRunning default environment configuration script\u001b[0m\n",
      "\u001b[34m[02/05/2022 11:19:45 INFO 139795070814016 integration.py:636] worker started\u001b[0m\n",
      "\u001b[34m[02/05/2022 11:19:45 INFO 139795070814016] Reading default configuration from /opt/amazon/lib/python3.7/site-packages/algorithm/resources/default-conf.json: {'algorithm_mode': 'regular', 'subtract_mean': 'true', 'extra_components': '-1', 'force_dense': 'true', 'epochs': 1, '_log_level': 'info', '_kvstore': 'dist_sync', '_num_kv_servers': 'auto', '_num_gpus': 'auto'}\u001b[0m\n",
      "\u001b[34m[02/05/2022 11:19:45 INFO 139795070814016] Merging with provided configuration from /opt/ml/input/config/hyperparameters.json: {'algorithm_mode': 'regular', 'feature_dim': '7', 'mini_batch_size': '1000', 'num_components': '3', 'subtract_mean': 'False'}\u001b[0m\n",
      "\u001b[34m[02/05/2022 11:19:45 INFO 139795070814016] Final configuration: {'algorithm_mode': 'regular', 'subtract_mean': 'False', 'extra_components': '-1', 'force_dense': 'true', 'epochs': 1, '_log_level': 'info', '_kvstore': 'dist_sync', '_num_kv_servers': 'auto', '_num_gpus': 'auto', 'feature_dim': '7', 'mini_batch_size': '1000', 'num_components': '3'}\u001b[0m\n",
      "\u001b[34m[02/05/2022 11:19:45 WARNING 139795070814016] Loggers have already been setup.\u001b[0m\n",
      "\u001b[34m[02/05/2022 11:19:45 INFO 139795070814016] Launching parameter server for role scheduler\u001b[0m\n",
      "\u001b[34m[02/05/2022 11:19:45 INFO 139795070814016] {'ENVROOT': '/opt/amazon', 'PROTOCOL_BUFFERS_PYTHON_IMPLEMENTATION': 'cpp', 'HOSTNAME': 'ip-10-0-100-59.ap-southeast-1.compute.internal', 'TRAINING_JOB_NAME': 'pca-environment-2022-02-05-11-17-28-723', 'NVIDIA_REQUIRE_CUDA': 'cuda>=9.0', 'TRAINING_JOB_ARN': 'arn:aws:sagemaker:ap-southeast-1:453160297490:training-job/pca-environment-2022-02-05-11-17-28-723', 'AWS_CONTAINER_CREDENTIALS_RELATIVE_URI': '/v2/credentials/proxy-215ed3cc15c4dbe833665aa3143789ec73eddabc46969c753136a8b0b7716292-customer', 'CANONICAL_ENVROOT': '/opt/amazon', 'PYTHONUNBUFFERED': 'TRUE', 'NVIDIA_VISIBLE_DEVICES': 'all', 'LD_LIBRARY_PATH': '/opt/amazon/lib/python3.7/site-packages/cv2/../../../../lib:/usr/local/nvidia/lib64:/opt/amazon/lib', 'NVIDIA_DRIVER_CAPABILITIES': 'compute,utility', 'PATH': '/opt/amazon/bin:/usr/local/nvidia/bin:/usr/local/sbin:/usr/local/bin:/usr/sbin:/usr/bin:/sbin:/bin:/opt/amazon/bin:/opt/amazon/bin', 'PWD': '/', 'LANG': 'en_US.utf8', 'AWS_REGION': 'ap-southeast-1', 'HOME': '/root', 'SHLVL': '1', 'PROTOCOL_BUFFERS_PYTHON_IMPLEMENTATION_VERSION': '2', 'OMP_NUM_THREADS': '2', 'DMLC_INTERFACE': 'eth0', 'SAGEMAKER_HTTP_PORT': '8080', 'SAGEMAKER_DATA_PATH': '/opt/ml'}\u001b[0m\n",
      "\u001b[34m[02/05/2022 11:19:45 INFO 139795070814016] envs={'ENVROOT': '/opt/amazon', 'PROTOCOL_BUFFERS_PYTHON_IMPLEMENTATION': 'cpp', 'HOSTNAME': 'ip-10-0-100-59.ap-southeast-1.compute.internal', 'TRAINING_JOB_NAME': 'pca-environment-2022-02-05-11-17-28-723', 'NVIDIA_REQUIRE_CUDA': 'cuda>=9.0', 'TRAINING_JOB_ARN': 'arn:aws:sagemaker:ap-southeast-1:453160297490:training-job/pca-environment-2022-02-05-11-17-28-723', 'AWS_CONTAINER_CREDENTIALS_RELATIVE_URI': '/v2/credentials/proxy-215ed3cc15c4dbe833665aa3143789ec73eddabc46969c753136a8b0b7716292-customer', 'CANONICAL_ENVROOT': '/opt/amazon', 'PYTHONUNBUFFERED': 'TRUE', 'NVIDIA_VISIBLE_DEVICES': 'all', 'LD_LIBRARY_PATH': '/opt/amazon/lib/python3.7/site-packages/cv2/../../../../lib:/usr/local/nvidia/lib64:/opt/amazon/lib', 'NVIDIA_DRIVER_CAPABILITIES': 'compute,utility', 'PATH': '/opt/amazon/bin:/usr/local/nvidia/bin:/usr/local/sbin:/usr/local/bin:/usr/sbin:/usr/bin:/sbin:/bin:/opt/amazon/bin:/opt/amazon/bin', 'PWD': '/', 'LANG': 'en_US.utf8', 'AWS_REGION': 'ap-southeast-1', 'HOME': '/root', 'SHLVL': '1', 'PROTOCOL_BUFFERS_PYTHON_IMPLEMENTATION_VERSION': '2', 'OMP_NUM_THREADS': '2', 'DMLC_INTERFACE': 'eth0', 'SAGEMAKER_HTTP_PORT': '8080', 'SAGEMAKER_DATA_PATH': '/opt/ml', 'DMLC_ROLE': 'scheduler', 'DMLC_PS_ROOT_URI': '10.0.100.59', 'DMLC_PS_ROOT_PORT': '9000', 'DMLC_NUM_SERVER': '1', 'DMLC_NUM_WORKER': '1'}\u001b[0m\n",
      "\u001b[34m[02/05/2022 11:19:45 INFO 139795070814016] Launching parameter server for role server\u001b[0m\n",
      "\u001b[34m[02/05/2022 11:19:45 INFO 139795070814016] {'ENVROOT': '/opt/amazon', 'PROTOCOL_BUFFERS_PYTHON_IMPLEMENTATION': 'cpp', 'HOSTNAME': 'ip-10-0-100-59.ap-southeast-1.compute.internal', 'TRAINING_JOB_NAME': 'pca-environment-2022-02-05-11-17-28-723', 'NVIDIA_REQUIRE_CUDA': 'cuda>=9.0', 'TRAINING_JOB_ARN': 'arn:aws:sagemaker:ap-southeast-1:453160297490:training-job/pca-environment-2022-02-05-11-17-28-723', 'AWS_CONTAINER_CREDENTIALS_RELATIVE_URI': '/v2/credentials/proxy-215ed3cc15c4dbe833665aa3143789ec73eddabc46969c753136a8b0b7716292-customer', 'CANONICAL_ENVROOT': '/opt/amazon', 'PYTHONUNBUFFERED': 'TRUE', 'NVIDIA_VISIBLE_DEVICES': 'all', 'LD_LIBRARY_PATH': '/opt/amazon/lib/python3.7/site-packages/cv2/../../../../lib:/usr/local/nvidia/lib64:/opt/amazon/lib', 'NVIDIA_DRIVER_CAPABILITIES': 'compute,utility', 'PATH': '/opt/amazon/bin:/usr/local/nvidia/bin:/usr/local/sbin:/usr/local/bin:/usr/sbin:/usr/bin:/sbin:/bin:/opt/amazon/bin:/opt/amazon/bin', 'PWD': '/', 'LANG': 'en_US.utf8', 'AWS_REGION': 'ap-southeast-1', 'HOME': '/root', 'SHLVL': '1', 'PROTOCOL_BUFFERS_PYTHON_IMPLEMENTATION_VERSION': '2', 'OMP_NUM_THREADS': '2', 'DMLC_INTERFACE': 'eth0', 'SAGEMAKER_HTTP_PORT': '8080', 'SAGEMAKER_DATA_PATH': '/opt/ml'}\u001b[0m\n",
      "\u001b[34m[02/05/2022 11:19:45 INFO 139795070814016] envs={'ENVROOT': '/opt/amazon', 'PROTOCOL_BUFFERS_PYTHON_IMPLEMENTATION': 'cpp', 'HOSTNAME': 'ip-10-0-100-59.ap-southeast-1.compute.internal', 'TRAINING_JOB_NAME': 'pca-environment-2022-02-05-11-17-28-723', 'NVIDIA_REQUIRE_CUDA': 'cuda>=9.0', 'TRAINING_JOB_ARN': 'arn:aws:sagemaker:ap-southeast-1:453160297490:training-job/pca-environment-2022-02-05-11-17-28-723', 'AWS_CONTAINER_CREDENTIALS_RELATIVE_URI': '/v2/credentials/proxy-215ed3cc15c4dbe833665aa3143789ec73eddabc46969c753136a8b0b7716292-customer', 'CANONICAL_ENVROOT': '/opt/amazon', 'PYTHONUNBUFFERED': 'TRUE', 'NVIDIA_VISIBLE_DEVICES': 'all', 'LD_LIBRARY_PATH': '/opt/amazon/lib/python3.7/site-packages/cv2/../../../../lib:/usr/local/nvidia/lib64:/opt/amazon/lib', 'NVIDIA_DRIVER_CAPABILITIES': 'compute,utility', 'PATH': '/opt/amazon/bin:/usr/local/nvidia/bin:/usr/local/sbin:/usr/local/bin:/usr/sbin:/usr/bin:/sbin:/bin:/opt/amazon/bin:/opt/amazon/bin', 'PWD': '/', 'LANG': 'en_US.utf8', 'AWS_REGION': 'ap-southeast-1', 'HOME': '/root', 'SHLVL': '1', 'PROTOCOL_BUFFERS_PYTHON_IMPLEMENTATION_VERSION': '2', 'OMP_NUM_THREADS': '2', 'DMLC_INTERFACE': 'eth0', 'SAGEMAKER_HTTP_PORT': '8080', 'SAGEMAKER_DATA_PATH': '/opt/ml', 'DMLC_ROLE': 'server', 'DMLC_PS_ROOT_URI': '10.0.100.59', 'DMLC_PS_ROOT_PORT': '9000', 'DMLC_NUM_SERVER': '1', 'DMLC_NUM_WORKER': '1'}\u001b[0m\n",
      "\u001b[34m[02/05/2022 11:19:45 INFO 139795070814016] Environment: {'ENVROOT': '/opt/amazon', 'PROTOCOL_BUFFERS_PYTHON_IMPLEMENTATION': 'cpp', 'HOSTNAME': 'ip-10-0-100-59.ap-southeast-1.compute.internal', 'TRAINING_JOB_NAME': 'pca-environment-2022-02-05-11-17-28-723', 'NVIDIA_REQUIRE_CUDA': 'cuda>=9.0', 'TRAINING_JOB_ARN': 'arn:aws:sagemaker:ap-southeast-1:453160297490:training-job/pca-environment-2022-02-05-11-17-28-723', 'AWS_CONTAINER_CREDENTIALS_RELATIVE_URI': '/v2/credentials/proxy-215ed3cc15c4dbe833665aa3143789ec73eddabc46969c753136a8b0b7716292-customer', 'CANONICAL_ENVROOT': '/opt/amazon', 'PYTHONUNBUFFERED': 'TRUE', 'NVIDIA_VISIBLE_DEVICES': 'all', 'LD_LIBRARY_PATH': '/opt/amazon/lib/python3.7/site-packages/cv2/../../../../lib:/usr/local/nvidia/lib64:/opt/amazon/lib', 'NVIDIA_DRIVER_CAPABILITIES': 'compute,utility', 'PATH': '/opt/amazon/bin:/usr/local/nvidia/bin:/usr/local/sbin:/usr/local/bin:/usr/sbin:/usr/bin:/sbin:/bin:/opt/amazon/bin:/opt/amazon/bin', 'PWD': '/', 'LANG': 'en_US.utf8', 'AWS_REGION': 'ap-southeast-1', 'HOME': '/root', 'SHLVL': '1', 'PROTOCOL_BUFFERS_PYTHON_IMPLEMENTATION_VERSION': '2', 'OMP_NUM_THREADS': '2', 'DMLC_INTERFACE': 'eth0', 'SAGEMAKER_HTTP_PORT': '8080', 'SAGEMAKER_DATA_PATH': '/opt/ml', 'DMLC_ROLE': 'worker', 'DMLC_PS_ROOT_URI': '10.0.100.59', 'DMLC_PS_ROOT_PORT': '9000', 'DMLC_NUM_SERVER': '1', 'DMLC_NUM_WORKER': '1'}\u001b[0m\n",
      "\u001b[34mProcess 35 is a shell:scheduler.\u001b[0m\n",
      "\u001b[34mProcess 44 is a shell:server.\u001b[0m\n",
      "\u001b[34mProcess 1 is a worker.\u001b[0m\n",
      "\u001b[34m[02/05/2022 11:19:45 INFO 139795070814016] Using default worker.\u001b[0m\n",
      "\u001b[34m[02/05/2022 11:19:45 INFO 139795070814016] Loaded iterator creator application/x-labeled-vector-protobuf for content type ('application/x-labeled-vector-protobuf', '1.0')\u001b[0m\n",
      "\u001b[34m[02/05/2022 11:19:45 INFO 139795070814016] Loaded iterator creator application/x-recordio-protobuf for content type ('application/x-recordio-protobuf', '1.0')\u001b[0m\n",
      "\u001b[34m[02/05/2022 11:19:45 INFO 139795070814016] Loaded iterator creator protobuf for content type ('protobuf', '1.0')\u001b[0m\n",
      "\u001b[34m[02/05/2022 11:19:45 INFO 139795070814016] Checkpoint loading and saving are disabled.\u001b[0m\n",
      "\u001b[34m[02/05/2022 11:19:45 INFO 139795070814016] Create Store: dist_sync\u001b[0m\n",
      "\u001b[34m[02/05/2022 11:19:46 INFO 139795070814016] nvidia-smi: took 0.055 seconds to run.\u001b[0m\n",
      "\u001b[34m[02/05/2022 11:19:46 INFO 139795070814016] nvidia-smi identified 0 GPUs.\u001b[0m\n",
      "\u001b[34m[02/05/2022 11:19:46 INFO 139795070814016] Number of GPUs being used: 0\u001b[0m\n",
      "\u001b[34m[02/05/2022 11:19:46 INFO 139795070814016] The default executor is <PCAExecutor on cpu(0)>.\u001b[0m\n",
      "\u001b[34m[02/05/2022 11:19:46 INFO 139795070814016] 7 feature(s) found in 'data'.\u001b[0m\n",
      "\u001b[34m[02/05/2022 11:19:46 INFO 139795070814016] <PCAExecutor on cpu(0)> is assigned to batch slice from 0 to 999.\u001b[0m\n",
      "\u001b[34m#metrics {\"StartTime\": 1644059985.9171703, \"EndTime\": 1644059986.759145, \"Dimensions\": {\"Algorithm\": \"PCA\", \"Host\": \"algo-1\", \"Operation\": \"training\"}, \"Metrics\": {\"initialize.time\": {\"sum\": 841.7155742645264, \"count\": 1, \"min\": 841.7155742645264, \"max\": 841.7155742645264}}}\u001b[0m\n",
      "\u001b[34m#metrics {\"StartTime\": 1644059986.759313, \"EndTime\": 1644059986.7593627, \"Dimensions\": {\"Algorithm\": \"PCA\", \"Host\": \"algo-1\", \"Operation\": \"training\", \"Meta\": \"init_train_data_iter\"}, \"Metrics\": {\"Total Records Seen\": {\"sum\": 0.0, \"count\": 1, \"min\": 0, \"max\": 0}, \"Total Batches Seen\": {\"sum\": 0.0, \"count\": 1, \"min\": 0, \"max\": 0}, \"Max Records Seen Between Resets\": {\"sum\": 0.0, \"count\": 1, \"min\": 0, \"max\": 0}, \"Max Batches Seen Between Resets\": {\"sum\": 0.0, \"count\": 1, \"min\": 0, \"max\": 0}, \"Reset Count\": {\"sum\": 0.0, \"count\": 1, \"min\": 0, \"max\": 0}, \"Number of Records Since Last Reset\": {\"sum\": 0.0, \"count\": 1, \"min\": 0, \"max\": 0}, \"Number of Batches Since Last Reset\": {\"sum\": 0.0, \"count\": 1, \"min\": 0, \"max\": 0}}}\u001b[0m\n",
      "\u001b[34m#metrics {\"StartTime\": 1644059986.759259, \"EndTime\": 1644059986.8463454, \"Dimensions\": {\"Algorithm\": \"PCA\", \"Host\": \"algo-1\", \"Operation\": \"training\"}, \"Metrics\": {\"epochs\": {\"sum\": 1.0, \"count\": 1, \"min\": 1, \"max\": 1}, \"update.time\": {\"sum\": 86.72595024108887, \"count\": 1, \"min\": 86.72595024108887, \"max\": 86.72595024108887}}}\u001b[0m\n",
      "\u001b[34m[02/05/2022 11:19:46 INFO 139795070814016] #progress_metric: host=algo-1, completed 100.0 % of epochs\u001b[0m\n",
      "\u001b[34m#metrics {\"StartTime\": 1644059986.7595823, \"EndTime\": 1644059986.846764, \"Dimensions\": {\"Algorithm\": \"PCA\", \"Host\": \"algo-1\", \"Operation\": \"training\", \"epoch\": 0, \"Meta\": \"training_data_iter\"}, \"Metrics\": {\"Total Records Seen\": {\"sum\": 8000.0, \"count\": 1, \"min\": 8000, \"max\": 8000}, \"Total Batches Seen\": {\"sum\": 8.0, \"count\": 1, \"min\": 8, \"max\": 8}, \"Max Records Seen Between Resets\": {\"sum\": 8000.0, \"count\": 1, \"min\": 8000, \"max\": 8000}, \"Max Batches Seen Between Resets\": {\"sum\": 8.0, \"count\": 1, \"min\": 8, \"max\": 8}, \"Reset Count\": {\"sum\": 1.0, \"count\": 1, \"min\": 1, \"max\": 1}, \"Number of Records Since Last Reset\": {\"sum\": 8000.0, \"count\": 1, \"min\": 8000, \"max\": 8000}, \"Number of Batches Since Last Reset\": {\"sum\": 8.0, \"count\": 1, \"min\": 8, \"max\": 8}}}\u001b[0m\n",
      "\u001b[34m[02/05/2022 11:19:46 INFO 139795070814016] #throughput_metric: host=algo-1, train throughput=91642.97009638311 records/second\u001b[0m\n",
      "\u001b[34m#metrics {\"StartTime\": 1644059986.846445, \"EndTime\": 1644059986.8597655, \"Dimensions\": {\"Algorithm\": \"PCA\", \"Host\": \"algo-1\", \"Operation\": \"training\"}, \"Metrics\": {\"finalize.time\": {\"sum\": 12.639760971069336, \"count\": 1, \"min\": 12.639760971069336, \"max\": 12.639760971069336}}}\u001b[0m\n",
      "\u001b[34m[02/05/2022 11:19:46 INFO 139795070814016] Test data is not provided.\u001b[0m\n",
      "\u001b[34m#metrics {\"StartTime\": 1644059986.859848, \"EndTime\": 1644059986.8626504, \"Dimensions\": {\"Algorithm\": \"PCA\", \"Host\": \"algo-1\", \"Operation\": \"training\"}, \"Metrics\": {\"setuptime\": {\"sum\": 29.429197311401367, \"count\": 1, \"min\": 29.429197311401367, \"max\": 29.429197311401367}, \"totaltime\": {\"sum\": 1365.8874034881592, \"count\": 1, \"min\": 1365.8874034881592, \"max\": 1365.8874034881592}}}\u001b[0m\n",
      "\u001b[34m[02/05/2022 11:19:46 INFO 139795070814016 integration.py:636] worker closed\u001b[0m\n",
      "\n",
      "2022-02-05 11:20:12 Completed - Training job completed\n",
      "Training seconds: 67\n",
      "Billable seconds: 67\n"
     ]
    }
   ],
   "source": [
    "# Fit the model\n",
    "pca_estimator.fit({'train': train_input})"
   ]
  },
  {
   "cell_type": "code",
   "execution_count": 5,
   "metadata": {},
   "outputs": [
    {
     "name": "stdout",
     "output_type": "stream",
     "text": [
      "------!"
     ]
    }
   ],
   "source": [
    "# Deploy the model\n",
    "pca_predictor = pca_estimator.deploy(\n",
    "    initial_instance_count=1,\n",
    "    instance_type='ml.m5.xlarge',\n",
    "    endpoint_name=base_job_name\n",
    ")"
   ]
  },
  {
   "cell_type": "markdown",
   "metadata": {},
   "source": [
    "## Prediction"
   ]
  },
  {
   "cell_type": "code",
   "execution_count": 6,
   "metadata": {},
   "outputs": [],
   "source": [
    "# Serializer for PCA predictor\n",
    "pca_predictor.serializer = CSVSerializer()\n",
    "pca_predictor.deserializer = JSONDeserializer()"
   ]
  },
  {
   "cell_type": "code",
   "execution_count": 7,
   "metadata": {},
   "outputs": [
    {
     "data": {
      "text/plain": [
       "{'projections': [{'projection': [-0.0005539982230402529,\n",
       "    0.7090167999267578,\n",
       "    2.8915176391601562]}]}"
      ]
     },
     "execution_count": 7,
     "metadata": {},
     "output_type": "execute_result"
    }
   ],
   "source": [
    "# Predict single data\n",
    "single_result = pca_predictor.predict([[-1.45264386, 0.867438826, -0.631348872,\n",
    "                                        -1.450186585, -0.042464642, -1.450766812, -1.185413776]])\n",
    "single_result"
   ]
  },
  {
   "cell_type": "code",
   "execution_count": 8,
   "metadata": {},
   "outputs": [],
   "source": [
    "# Load data\n",
    "test = pd.read_csv(\"environment_test.csv\")\n",
    "test = test.values"
   ]
  },
  {
   "cell_type": "code",
   "execution_count": 9,
   "metadata": {},
   "outputs": [
    {
     "data": {
      "text/html": [
       "<div>\n",
       "<style scoped>\n",
       "    .dataframe tbody tr th:only-of-type {\n",
       "        vertical-align: middle;\n",
       "    }\n",
       "\n",
       "    .dataframe tbody tr th {\n",
       "        vertical-align: top;\n",
       "    }\n",
       "\n",
       "    .dataframe thead th {\n",
       "        text-align: right;\n",
       "    }\n",
       "</style>\n",
       "<table border=\"1\" class=\"dataframe\">\n",
       "  <thead>\n",
       "    <tr style=\"text-align: right;\">\n",
       "      <th></th>\n",
       "      <th>0</th>\n",
       "      <th>1</th>\n",
       "      <th>2</th>\n",
       "    </tr>\n",
       "  </thead>\n",
       "  <tbody>\n",
       "    <tr>\n",
       "      <th>0</th>\n",
       "      <td>-0.030150</td>\n",
       "      <td>-2.222405</td>\n",
       "      <td>-0.103516</td>\n",
       "    </tr>\n",
       "    <tr>\n",
       "      <th>1</th>\n",
       "      <td>-0.028445</td>\n",
       "      <td>-2.308333</td>\n",
       "      <td>-0.294343</td>\n",
       "    </tr>\n",
       "    <tr>\n",
       "      <th>2</th>\n",
       "      <td>0.115493</td>\n",
       "      <td>1.043182</td>\n",
       "      <td>-1.634197</td>\n",
       "    </tr>\n",
       "    <tr>\n",
       "      <th>3</th>\n",
       "      <td>-0.010507</td>\n",
       "      <td>0.677190</td>\n",
       "      <td>3.277793</td>\n",
       "    </tr>\n",
       "    <tr>\n",
       "      <th>4</th>\n",
       "      <td>-0.031363</td>\n",
       "      <td>-2.449602</td>\n",
       "      <td>-0.362065</td>\n",
       "    </tr>\n",
       "  </tbody>\n",
       "</table>\n",
       "</div>"
      ],
      "text/plain": [
       "          0         1         2\n",
       "0 -0.030150 -2.222405 -0.103516\n",
       "1 -0.028445 -2.308333 -0.294343\n",
       "2  0.115493  1.043182 -1.634197\n",
       "3 -0.010507  0.677190  3.277793\n",
       "4 -0.031363 -2.449602 -0.362065"
      ]
     },
     "execution_count": 9,
     "metadata": {},
     "output_type": "execute_result"
    }
   ],
   "source": [
    "# Predict multiple data\n",
    "pred = pca_predictor.predict(test)\n",
    "\n",
    "# Convert json to dataframe\n",
    "pred_result = [result['projection'] for result in pred['projections']]\n",
    "pred_result = pd.DataFrame(pred_result)\n",
    "pred_result.head()"
   ]
  },
  {
   "cell_type": "code",
   "execution_count": 10,
   "metadata": {},
   "outputs": [],
   "source": [
    "pred_result.to_csv(\"environment_test_pca.csv\", index=False, header=False)"
   ]
  },
  {
   "cell_type": "code",
   "execution_count": null,
   "metadata": {},
   "outputs": [],
   "source": [
    "# Delete the endpoint if not needed"
   ]
  }
 ],
 "metadata": {
  "kernelspec": {
   "display_name": "Python 3",
   "language": "python",
   "name": "python3"
  },
  "language_info": {
   "codemirror_mode": {
    "name": "ipython",
    "version": 3
   },
   "file_extension": ".py",
   "mimetype": "text/x-python",
   "name": "python",
   "nbconvert_exporter": "python",
   "pygments_lexer": "ipython3",
   "version": "3.8.6rc1"
  },
  "toc": {
   "base_numbering": 1,
   "nav_menu": {},
   "number_sections": true,
   "sideBar": true,
   "skip_h1_title": false,
   "title_cell": "Table of Contents",
   "title_sidebar": "Contents",
   "toc_cell": false,
   "toc_position": {},
   "toc_section_display": true,
   "toc_window_display": false
  },
  "varInspector": {
   "cols": {
    "lenName": 16,
    "lenType": 16,
    "lenVar": 40
   },
   "kernels_config": {
    "python": {
     "delete_cmd_postfix": "",
     "delete_cmd_prefix": "del ",
     "library": "var_list.py",
     "varRefreshCmd": "print(var_dic_list())"
    },
    "r": {
     "delete_cmd_postfix": ") ",
     "delete_cmd_prefix": "rm(",
     "library": "var_list.r",
     "varRefreshCmd": "cat(var_dic_list()) "
    }
   },
   "types_to_exclude": [
    "module",
    "function",
    "builtin_function_or_method",
    "instance",
    "_Feature"
   ],
   "window_display": false
  }
 },
 "nbformat": 4,
 "nbformat_minor": 4
}
