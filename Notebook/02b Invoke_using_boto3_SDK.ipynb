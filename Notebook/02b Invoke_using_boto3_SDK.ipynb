{
 "cells": [
  {
   "cell_type": "markdown",
   "metadata": {},
   "source": [
    "# Invoke Model Endpoint:\n",
    "## 2. Client to Endpoint using Boto3 SDK\n",
    "Previous activity: completing the model training and model endpoint deployment."
   ]
  },
  {
   "cell_type": "code",
   "execution_count": 1,
   "metadata": {},
   "outputs": [],
   "source": [
    "import boto3\n",
    "import pandas as pd"
   ]
  },
  {
   "cell_type": "code",
   "execution_count": 2,
   "metadata": {},
   "outputs": [],
   "source": [
    "# Start a boto3 session with \"user\"\n",
    "boto3_session = boto3.Session(\n",
    "    profile_name=\"user\", region_name=\"ap-southeast-1\")"
   ]
  },
  {
   "cell_type": "code",
   "execution_count": 3,
   "metadata": {},
   "outputs": [
    {
     "name": "stdout",
     "output_type": "stream",
     "text": [
      "['accessanalyzer', 'account', 'acm', 'acm-pca', 'alexaforbusiness', 'amp', 'amplify', 'amplifybackend', 'amplifyuibuilder', 'apigateway', 'apigatewaymanagementapi', 'apigatewayv2', 'appconfig', 'appconfigdata', 'appflow', 'appintegrations', 'application-autoscaling', 'application-insights', 'applicationcostprofiler', 'appmesh', 'apprunner', 'appstream', 'appsync', 'athena', 'auditmanager', 'autoscaling', 'autoscaling-plans', 'backup', 'backup-gateway', 'batch', 'braket', 'budgets', 'ce', 'chime', 'chime-sdk-identity', 'chime-sdk-meetings', 'chime-sdk-messaging', 'cloud9', 'cloudcontrol', 'clouddirectory', 'cloudformation', 'cloudfront', 'cloudhsm', 'cloudhsmv2', 'cloudsearch', 'cloudsearchdomain', 'cloudtrail', 'cloudwatch', 'codeartifact', 'codebuild', 'codecommit', 'codedeploy', 'codeguru-reviewer', 'codeguruprofiler', 'codepipeline', 'codestar', 'codestar-connections', 'codestar-notifications', 'cognito-identity', 'cognito-idp', 'cognito-sync', 'comprehend', 'comprehendmedical', 'compute-optimizer', 'config', 'connect', 'connect-contact-lens', 'connectparticipant', 'cur', 'customer-profiles', 'databrew', 'dataexchange', 'datapipeline', 'datasync', 'dax', 'detective', 'devicefarm', 'devops-guru', 'directconnect', 'discovery', 'dlm', 'dms', 'docdb', 'drs', 'ds', 'dynamodb', 'dynamodbstreams', 'ebs', 'ec2', 'ec2-instance-connect', 'ecr', 'ecr-public', 'ecs', 'efs', 'eks', 'elastic-inference', 'elasticache', 'elasticbeanstalk', 'elastictranscoder', 'elb', 'elbv2', 'emr', 'emr-containers', 'es', 'events', 'evidently', 'finspace', 'finspace-data', 'firehose', 'fis', 'fms', 'forecast', 'forecastquery', 'frauddetector', 'fsx', 'gamelift', 'glacier', 'globalaccelerator', 'glue', 'grafana', 'greengrass', 'greengrassv2', 'groundstation', 'guardduty', 'health', 'healthlake', 'honeycode', 'iam', 'identitystore', 'imagebuilder', 'importexport', 'inspector', 'inspector2', 'iot', 'iot-data', 'iot-jobs-data', 'iot1click-devices', 'iot1click-projects', 'iotanalytics', 'iotdeviceadvisor', 'iotevents', 'iotevents-data', 'iotfleethub', 'iotsecuretunneling', 'iotsitewise', 'iotthingsgraph', 'iottwinmaker', 'iotwireless', 'ivs', 'kafka', 'kafkaconnect', 'kendra', 'kinesis', 'kinesis-video-archived-media', 'kinesis-video-media', 'kinesis-video-signaling', 'kinesisanalytics', 'kinesisanalyticsv2', 'kinesisvideo', 'kms', 'lakeformation', 'lambda', 'lex-models', 'lex-runtime', 'lexv2-models', 'lexv2-runtime', 'license-manager', 'lightsail', 'location', 'logs', 'lookoutequipment', 'lookoutmetrics', 'lookoutvision', 'machinelearning', 'macie', 'macie2', 'managedblockchain', 'marketplace-catalog', 'marketplace-entitlement', 'marketplacecommerceanalytics', 'mediaconnect', 'mediaconvert', 'medialive', 'mediapackage', 'mediapackage-vod', 'mediastore', 'mediastore-data', 'mediatailor', 'memorydb', 'meteringmarketplace', 'mgh', 'mgn', 'migration-hub-refactor-spaces', 'migrationhub-config', 'migrationhubstrategy', 'mobile', 'mq', 'mturk', 'mwaa', 'neptune', 'network-firewall', 'networkmanager', 'nimble', 'opensearch', 'opsworks', 'opsworkscm', 'organizations', 'outposts', 'panorama', 'personalize', 'personalize-events', 'personalize-runtime', 'pi', 'pinpoint', 'pinpoint-email', 'pinpoint-sms-voice', 'polly', 'pricing', 'proton', 'qldb', 'qldb-session', 'quicksight', 'ram', 'rbin', 'rds', 'rds-data', 'redshift', 'redshift-data', 'rekognition', 'resiliencehub', 'resource-groups', 'resourcegroupstaggingapi', 'robomaker', 'route53', 'route53-recovery-cluster', 'route53-recovery-control-config', 'route53-recovery-readiness', 'route53domains', 'route53resolver', 'rum', 's3', 's3control', 's3outposts', 'sagemaker', 'sagemaker-a2i-runtime', 'sagemaker-edge', 'sagemaker-featurestore-runtime', 'sagemaker-runtime', 'savingsplans', 'schemas', 'sdb', 'secretsmanager', 'securityhub', 'serverlessrepo', 'service-quotas', 'servicecatalog', 'servicecatalog-appregistry', 'servicediscovery', 'ses', 'sesv2', 'shield', 'signer', 'sms', 'sms-voice', 'snow-device-management', 'snowball', 'sns', 'sqs', 'ssm', 'ssm-contacts', 'ssm-incidents', 'sso', 'sso-admin', 'sso-oidc', 'stepfunctions', 'storagegateway', 'sts', 'support', 'swf', 'synthetics', 'textract', 'timestream-query', 'timestream-write', 'transcribe', 'transfer', 'translate', 'voice-id', 'waf', 'waf-regional', 'wafv2', 'wellarchitected', 'wisdom', 'workdocs', 'worklink', 'workmail', 'workmailmessageflow', 'workspaces', 'workspaces-web', 'xray']\n"
     ]
    }
   ],
   "source": [
    "# Display the available services from boto3 and find if sagemaker-runtime is included\n",
    "print(boto3_session.get_available_services())"
   ]
  },
  {
   "cell_type": "code",
   "execution_count": 4,
   "metadata": {},
   "outputs": [],
   "source": [
    "# Sagemaker-runtime client\n",
    "client = boto3_session.client(\n",
    "    service_name='sagemaker-runtime', region_name='ap-southeast-1')"
   ]
  },
  {
   "cell_type": "code",
   "execution_count": 5,
   "metadata": {},
   "outputs": [],
   "source": [
    "# Prepare the input data sample\n",
    "input_sample_1 = \"1.0, 1.0, 0.0, 1.0, 0.0, 2083.0, 3150.0, 128.0, 360.0, 1.0, 0.0, 1.0, 0.0\"  # true value: 1\n",
    "input_sample_2 = \"1.0, 0.0, 0.0, 0.0, 0.0, 2333.0, 1451.0, 102.0, 480.0, 0.0, 0.0, 0.0, 1.0\"  # true value: 0\n",
    "input_sample_3 = \"1.0, 1.0, 1.0, 1.0, 0.0, 6325.0, 0.0, 175.0, 360.0, 1.0, 0.0, 1.0, 0.0\"  # true value: 1"
   ]
  },
  {
   "cell_type": "code",
   "execution_count": 6,
   "metadata": {},
   "outputs": [
    {
     "data": {
      "text/plain": [
       "{'ResponseMetadata': {'RequestId': '2d7df732-85af-405b-9335-de84f80f2c2b',\n",
       "  'HTTPStatusCode': 200,\n",
       "  'HTTPHeaders': {'x-amzn-requestid': '2d7df732-85af-405b-9335-de84f80f2c2b',\n",
       "   'x-amzn-invoked-production-variant': 'AllTraffic',\n",
       "   'date': 'Sat, 22 Jan 2022 11:16:13 GMT',\n",
       "   'content-type': 'text/csv; charset=utf-8',\n",
       "   'content-length': '3'},\n",
       "  'RetryAttempts': 0},\n",
       " 'ContentType': 'text/csv; charset=utf-8',\n",
       " 'InvokedProductionVariant': 'AllTraffic',\n",
       " 'Body': <botocore.response.StreamingBody at 0x2415fa7c5b0>}"
      ]
     },
     "execution_count": 6,
     "metadata": {},
     "output_type": "execute_result"
    }
   ],
   "source": [
    "# Invoke the prediction (1 input)\n",
    "pred = client.invoke_endpoint(EndpointName=\"xgboost-loan\",\n",
    "                              Body=input_sample_1.encode('utf-8'),\n",
    "                              ContentType='text/csv')\n",
    "pred"
   ]
  },
  {
   "cell_type": "code",
   "execution_count": 7,
   "metadata": {},
   "outputs": [
    {
     "name": "stdout",
     "output_type": "stream",
     "text": [
      "1.0\n"
     ]
    }
   ],
   "source": [
    "pred = pred['Body'].read().decode('utf-8')\n",
    "print(pred)"
   ]
  },
  {
   "cell_type": "code",
   "execution_count": 8,
   "metadata": {},
   "outputs": [
    {
     "name": "stdout",
     "output_type": "stream",
     "text": [
      "1.0,0.0,1.0\n"
     ]
    }
   ],
   "source": [
    "# Invoke the prediction (multiple inputs)\n",
    "pred = client.invoke_endpoint(EndpointName=\"xgboost-loan\",\n",
    "                              Body=('\\n'.join([input_sample_1,\n",
    "                                               input_sample_2,\n",
    "                                               input_sample_3]).encode('utf-8')),\n",
    "                              ContentType='text/csv')\n",
    "\n",
    "pred = pred['Body'].read().decode('utf-8')\n",
    "print(pred)"
   ]
  },
  {
   "cell_type": "code",
   "execution_count": 9,
   "metadata": {},
   "outputs": [
    {
     "name": "stdout",
     "output_type": "stream",
     "text": [
      "The length of the test data is 96\n"
     ]
    }
   ],
   "source": [
    "# Load test data\n",
    "test_data = pd.read_csv(\"D:/3. Projects/AWS Sagemaker/others/loan_test_data.csv\")\n",
    "print(f\"The length of the test data is {len(test_data)}\")\n",
    "\n",
    "test_input = []\n",
    "with open(\"D:/3. Projects/AWS Sagemaker/others/loan_test_data.csv\", 'r') as f:\n",
    "    f.readline()\n",
    "    test_input = f.readlines()"
   ]
  },
  {
   "cell_type": "code",
   "execution_count": 10,
   "metadata": {},
   "outputs": [],
   "source": [
    "# Batch Prediction\n",
    "def transform(data):\n",
    "    feature = data.split(',')\n",
    "\n",
    "    if feature[1] == \"Male\":\n",
    "        feature[1] = \"1\"\n",
    "    else:\n",
    "        feature[1] = \"0\"\n",
    "\n",
    "    if feature[2] == \"Yes\":\n",
    "        feature[2] = \"1\"\n",
    "    else:\n",
    "        feature[2] = \"0\"\n",
    "\n",
    "    if feature[3] == \"3+\":\n",
    "        feature[3] = \"3\"\n",
    "    else:\n",
    "        feature[3] = feature[3]\n",
    "\n",
    "    if feature[4] == \"Graduate\":\n",
    "        feature[4] = \"1\"\n",
    "    else:\n",
    "        feature[4] = \"0\"\n",
    "\n",
    "    if feature[5] == \"Yes\":\n",
    "        feature[5] = \"1\"\n",
    "    else:\n",
    "        feature[5] = \"0\"\n",
    "\n",
    "    feature.extend([\"0\", \"0\", \"0\"])\n",
    "\n",
    "    if feature[11] == \"Rural\":\n",
    "        feature[12] = \"1\"\n",
    "    elif feature[11] == \"Semiurban\":\n",
    "        feature[13] = \"1\"\n",
    "    elif feature[11] == \"Urban\":\n",
    "        feature[14] = \"1\"\n",
    "    feature.pop(11)\n",
    "\n",
    "    feature = ','.join(feature[1:])\n",
    "\n",
    "    return feature\n",
    "\n",
    "\n",
    "def batch_prediction(test_input, batch_size):\n",
    "    predictions = []\n",
    "\n",
    "    # Transform input data\n",
    "    test_input = [transform(row.strip()) for row in test_input]\n",
    "\n",
    "    for i in range(0, len(test_input), batch_size):\n",
    "        print(f\"predicting row {i}\")\n",
    "\n",
    "        # Predict the test data\n",
    "        pred = client.invoke_endpoint(\n",
    "            EndpointName=\"xgboost-loan\",\n",
    "            Body=(\"\\n\".join(test_input[i: i + batch_size]).encode('utf-8')),\n",
    "            ContentType='text/csv'\n",
    "        )\n",
    "        pred = pred['Body'].read().decode('utf-8')\n",
    "        pred = pred.split(',')\n",
    "        predictions += pred\n",
    "\n",
    "    return predictions"
   ]
  },
  {
   "cell_type": "code",
   "execution_count": 11,
   "metadata": {},
   "outputs": [
    {
     "name": "stdout",
     "output_type": "stream",
     "text": [
      "predicting row 0\n",
      "predicting row 20\n",
      "predicting row 40\n",
      "predicting row 60\n",
      "predicting row 80\n"
     ]
    },
    {
     "data": {
      "text/plain": [
       "['1.0',\n",
       " '0.0',\n",
       " '1.0',\n",
       " '1.0',\n",
       " '1.0',\n",
       " '1.0',\n",
       " '1.0',\n",
       " '1.0',\n",
       " '0.0',\n",
       " '1.0',\n",
       " '0.0',\n",
       " '1.0',\n",
       " '1.0',\n",
       " '1.0',\n",
       " '1.0',\n",
       " '1.0',\n",
       " '0.0',\n",
       " '1.0',\n",
       " '1.0',\n",
       " '0.0',\n",
       " '1.0',\n",
       " '1.0',\n",
       " '1.0',\n",
       " '1.0',\n",
       " '1.0',\n",
       " '1.0',\n",
       " '1.0',\n",
       " '1.0',\n",
       " '1.0',\n",
       " '1.0',\n",
       " '1.0',\n",
       " '1.0',\n",
       " '1.0',\n",
       " '1.0',\n",
       " '1.0',\n",
       " '1.0',\n",
       " '1.0',\n",
       " '1.0',\n",
       " '1.0',\n",
       " '1.0',\n",
       " '1.0',\n",
       " '1.0',\n",
       " '1.0',\n",
       " '1.0',\n",
       " '1.0',\n",
       " '1.0',\n",
       " '1.0',\n",
       " '1.0',\n",
       " '1.0',\n",
       " '1.0',\n",
       " '1.0',\n",
       " '1.0',\n",
       " '1.0',\n",
       " '1.0',\n",
       " '0.0',\n",
       " '1.0',\n",
       " '1.0',\n",
       " '1.0',\n",
       " '0.0',\n",
       " '1.0',\n",
       " '1.0',\n",
       " '1.0',\n",
       " '1.0',\n",
       " '1.0',\n",
       " '1.0',\n",
       " '1.0',\n",
       " '1.0',\n",
       " '1.0',\n",
       " '0.0',\n",
       " '1.0',\n",
       " '1.0',\n",
       " '1.0',\n",
       " '1.0',\n",
       " '1.0',\n",
       " '1.0',\n",
       " '0.0',\n",
       " '0.0',\n",
       " '1.0',\n",
       " '1.0',\n",
       " '1.0',\n",
       " '1.0',\n",
       " '1.0',\n",
       " '1.0',\n",
       " '1.0',\n",
       " '0.0',\n",
       " '1.0',\n",
       " '1.0',\n",
       " '1.0',\n",
       " '1.0',\n",
       " '1.0',\n",
       " '1.0',\n",
       " '1.0',\n",
       " '1.0',\n",
       " '1.0',\n",
       " '0.0',\n",
       " '1.0']"
      ]
     },
     "execution_count": 11,
     "metadata": {},
     "output_type": "execute_result"
    }
   ],
   "source": [
    "# Batch prediction on the test data\n",
    "pred = batch_prediction(test_input, 20)\n",
    "pred"
   ]
  },
  {
   "cell_type": "code",
   "execution_count": 12,
   "metadata": {},
   "outputs": [
    {
     "name": "stdout",
     "output_type": "stream",
     "text": [
      "Number of predictions: 96\n"
     ]
    }
   ],
   "source": [
    "# Number of predictions\n",
    "print(f\"Number of predictions: {len(pred)}\")"
   ]
  },
  {
   "cell_type": "markdown",
   "metadata": {},
   "source": [
    "Finally, delete the endpoint (if not used anymore)"
   ]
  }
 ],
 "metadata": {
  "kernelspec": {
   "display_name": "Python 3",
   "language": "python",
   "name": "python3"
  },
  "language_info": {
   "codemirror_mode": {
    "name": "ipython",
    "version": 3
   },
   "file_extension": ".py",
   "mimetype": "text/x-python",
   "name": "python",
   "nbconvert_exporter": "python",
   "pygments_lexer": "ipython3",
   "version": "3.8.6rc1"
  },
  "toc": {
   "base_numbering": 1,
   "nav_menu": {},
   "number_sections": true,
   "sideBar": true,
   "skip_h1_title": false,
   "title_cell": "Table of Contents",
   "title_sidebar": "Contents",
   "toc_cell": false,
   "toc_position": {},
   "toc_section_display": true,
   "toc_window_display": false
  },
  "varInspector": {
   "cols": {
    "lenName": 16,
    "lenType": 16,
    "lenVar": 40
   },
   "kernels_config": {
    "python": {
     "delete_cmd_postfix": "",
     "delete_cmd_prefix": "del ",
     "library": "var_list.py",
     "varRefreshCmd": "print(var_dic_list())"
    },
    "r": {
     "delete_cmd_postfix": ") ",
     "delete_cmd_prefix": "rm(",
     "library": "var_list.r",
     "varRefreshCmd": "cat(var_dic_list()) "
    }
   },
   "types_to_exclude": [
    "module",
    "function",
    "builtin_function_or_method",
    "instance",
    "_Feature"
   ],
   "window_display": false
  }
 },
 "nbformat": 4,
 "nbformat_minor": 4
}
