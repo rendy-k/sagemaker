{
 "cells": [
  {
   "cell_type": "markdown",
   "metadata": {},
   "source": [
    "# Invoke Model Endpoint:\n",
    "## 4. Client to Endpoint using Lambda and API Gateway\n",
    "Previous activity: completing the model training and model endpoint deployment."
   ]
  },
  {
   "cell_type": "code",
   "execution_count": 1,
   "metadata": {},
   "outputs": [],
   "source": [
    "import requests\n",
    "import json"
   ]
  },
  {
   "cell_type": "code",
   "execution_count": 2,
   "metadata": {},
   "outputs": [],
   "source": [
    "# Set the URL to the API Gateway endpoint\n",
    "url = \"https://bheqrhngpi.execute-api.ap-southeast-1.amazonaws.com/test\""
   ]
  },
  {
   "cell_type": "code",
   "execution_count": 3,
   "metadata": {},
   "outputs": [],
   "source": [
    "request1 =  {\n",
    "     \"data\": [\n",
    "         {\n",
    "             \"features\": [\"LP002537\",\"Male\",\"Yes\",\"0\",\"Graduate\",\"No\",2083,3150.0,128.0,360.0,1.0,\"Semiurban\"]\n",
    "         }\n",
    "    ]\n",
    "}"
   ]
  },
  {
   "cell_type": "code",
   "execution_count": 4,
   "metadata": {},
   "outputs": [],
   "source": [
    "response = requests.post(url, data=json.dumps(request1))\n",
    "result = response.json()"
   ]
  },
  {
   "cell_type": "code",
   "execution_count": 5,
   "metadata": {},
   "outputs": [
    {
     "data": {
      "text/plain": [
       "{'statusCode': 200, 'isBase64Encoded': False, 'body': '[\"1.0\"]'}"
      ]
     },
     "execution_count": 5,
     "metadata": {},
     "output_type": "execute_result"
    }
   ],
   "source": [
    "result"
   ]
  },
  {
   "cell_type": "code",
   "execution_count": 6,
   "metadata": {},
   "outputs": [
    {
     "name": "stdout",
     "output_type": "stream",
     "text": [
      "Predicted result:  ['1.0']\n"
     ]
    }
   ],
   "source": [
    "if result['statusCode'] == 200:\n",
    "    predictions = json.loads(result['body'])\n",
    "    print('Predicted result: ', predictions)\n",
    "else:\n",
    "    print('Error',result['statusCode'], result['body'])"
   ]
  },
  {
   "cell_type": "code",
   "execution_count": 7,
   "metadata": {},
   "outputs": [],
   "source": [
    "# Multiple Observations\n",
    "request2 =  {\n",
    "     \"data\": [\n",
    "         {\n",
    "             \"features\": [\"LP001630\",\"Male\",\"No\",\"0\",\"Not Graduate\",\"No\",2333,1451.0,102.0,480.0,0.0,\"Urban\"]\n",
    "         },\n",
    "         {\n",
    "             \"features\": [\"LP002190\",\"Male\",\"Yes\",\"1\",\"Graduate\",\"No\",6325,0.0,175.0,360.0,1.0,\"Semiurban\"]\n",
    "         },\n",
    "         {\n",
    "             \"features\": [\"LP002807\",\"Male\",\"Yes\",\"2\",\"Not Graduate\",\"No\",3675,242.0,108.0,360.0,1.0,\"Semiurban\"]\n",
    "         }\n",
    "    ]\n",
    "}"
   ]
  },
  {
   "cell_type": "code",
   "execution_count": 8,
   "metadata": {},
   "outputs": [],
   "source": [
    "response2 = requests.post(url, data=json.dumps(request2))\n",
    "result2 = response2.json()"
   ]
  },
  {
   "cell_type": "code",
   "execution_count": 9,
   "metadata": {},
   "outputs": [
    {
     "name": "stdout",
     "output_type": "stream",
     "text": [
      "Predicted Count:  ['0.0', '1.0', '1.0']\n"
     ]
    }
   ],
   "source": [
    "if result2['statusCode'] == 200:\n",
    "    predictions2 = json.loads(result2['body'])\n",
    "    print('Predicted Count: ', predictions2)\n",
    "else:\n",
    "    print('Error',result2['statusCode'], result2['body'])"
   ]
  }
 ],
 "metadata": {
  "kernelspec": {
   "display_name": "Python 3",
   "language": "python",
   "name": "python3"
  },
  "language_info": {
   "codemirror_mode": {
    "name": "ipython",
    "version": 3
   },
   "file_extension": ".py",
   "mimetype": "text/x-python",
   "name": "python",
   "nbconvert_exporter": "python",
   "pygments_lexer": "ipython3",
   "version": "3.8.6rc1"
  },
  "toc": {
   "base_numbering": 1,
   "nav_menu": {},
   "number_sections": true,
   "sideBar": true,
   "skip_h1_title": false,
   "title_cell": "Table of Contents",
   "title_sidebar": "Contents",
   "toc_cell": false,
   "toc_position": {},
   "toc_section_display": true,
   "toc_window_display": false
  },
  "varInspector": {
   "cols": {
    "lenName": 16,
    "lenType": 16,
    "lenVar": 40
   },
   "kernels_config": {
    "python": {
     "delete_cmd_postfix": "",
     "delete_cmd_prefix": "del ",
     "library": "var_list.py",
     "varRefreshCmd": "print(var_dic_list())"
    },
    "r": {
     "delete_cmd_postfix": ") ",
     "delete_cmd_prefix": "rm(",
     "library": "var_list.r",
     "varRefreshCmd": "cat(var_dic_list()) "
    }
   },
   "types_to_exclude": [
    "module",
    "function",
    "builtin_function_or_method",
    "instance",
    "_Feature"
   ],
   "window_display": false
  }
 },
 "nbformat": 4,
 "nbformat_minor": 4
}
