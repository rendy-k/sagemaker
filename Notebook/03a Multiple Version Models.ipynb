{
 "cells": [
  {
   "cell_type": "markdown",
   "metadata": {},
   "source": [
    "# Multiple Models by Versions\n",
    "\n",
    "## Training models\n",
    "\n",
    "Previous activity: preparing and splitting data"
   ]
  },
  {
   "cell_type": "code",
   "execution_count": null,
   "metadata": {},
   "outputs": [],
   "source": [
    "import numpy as np\n",
    "import pandas as pd\n",
    "import sagemaker\n",
    "from sagemaker import get_execution_role\n",
    "from sagemaker.serializers import CSVSerializer"
   ]
  },
  {
   "cell_type": "code",
   "execution_count": null,
   "metadata": {},
   "outputs": [],
   "source": [
    "# Set the file directories\n",
    "bucket_name = \"sagemaker-loan-classification\"\n",
    "prefix = \"xgboost\"\n",
    "\n",
    "# Set input and output paths for sagemaker\n",
    "input_train = sagemaker.TrainingInput(\n",
    "    s3_data=f\"s3://{bucket_name}/{prefix}/train\", content_type=\"csv\")\n",
    "input_test = sagemaker.TrainingInput(\n",
    "    s3_data=f\"s3://{bucket_name}/{prefix}/test\", content_type=\"csv\")\n",
    "output_path = f\"s3://{bucket_name}/{prefix}/saved_model\""
   ]
  },
  {
   "cell_type": "code",
   "execution_count": null,
   "metadata": {},
   "outputs": [],
   "source": [
    "# Build the estimator\n",
    "def xgboost_fit_ver(version, use_spot_instance=False, max_run=3200, max_wait=7600):\n",
    "    name = f\"xgboost-loan-{version}\"\n",
    "    print(f\"____Running {}\")\n",
    "\n",
    "    # Set checkpoint\n",
    "    checkpoint = None\n",
    "    if use_spot_instances == True:\n",
    "        checkpoint = f\"s3://{bucket_name}/{prefix}/checkpoints/{name}\"\n",
    "        print(f\"___The checkpoint is saved to: {checkpoint}\")\n",
    "        max_wait = None\n",
    "\n",
    "    # Set the container based on the version\n",
    "    container = sagemaker.image_uris.retrieve(\"xgboost\",\n",
    "                                              sagemaker.Session().boto_region_name,\n",
    "                                              version=version)\n",
    "\n",
    "    xgb = sagemaker.estimator.Estimator(\n",
    "        image_uri=container,\n",
    "        role=sagemaker.get_execution_role(),\n",
    "        instance_count=1,\n",
    "        instance_type=\"ml.m5.xlarge\",\n",
    "        output_path=output_path,\n",
    "        sagemaker_session=sagemaker.Session(),\n",
    "        checkpoint_s3_uri=checkpoint\n",
    "        use_spot_instance=use_spot_instance,\n",
    "        max_run=max_run,\n",
    "        max_wait=max_wait,\n",
    "        base_job_name=name,\n",
    "    )\n",
    "\n",
    "    # Set the hyperparameters\n",
    "    xgb.set_hyperparameters(\n",
    "        colsample_bytree=0.478,\n",
    "        gamma=2.387,\n",
    "        eta=0.175,\n",
    "        max_depth=15,\n",
    "        min_child_weight=7,\n",
    "        num_round=86,\n",
    "        subsample=0.80,\n",
    "        num_class=2,\n",
    "        objective=\"multi:softmax\",\n",
    "    )\n",
    "\n",
    "    # Fit the model\n",
    "    xgb.fit(\n",
    "        {\n",
    "            \"train\": input_train,\n",
    "            \"validation\": input_test\n",
    "        }\n",
    "    )\n",
    "\n",
    "    print(f\"____Finish running {xgb.latest_training_job.name}\")"
   ]
  },
  {
   "cell_type": "code",
   "execution_count": null,
   "metadata": {},
   "outputs": [],
   "source": [
    "# Train Xgboost version 0.90-1\n",
    "xgboost_fit_ver(version=\"0.90-1\", use_spot_instance=False)"
   ]
  },
  {
   "cell_type": "code",
   "execution_count": null,
   "metadata": {},
   "outputs": [],
   "source": [
    "# Train Xgboost version 0.90-1\n",
    "xgboost_fit_ver(version=\"1.3-1\", use_spot_instance=False)"
   ]
  },
  {
   "cell_type": "markdown",
   "metadata": {},
   "source": [
    "## Deploy the models in AWS"
   ]
  },
  {
   "cell_type": "markdown",
   "metadata": {},
   "source": [
    "## Model predictions"
   ]
  },
  {
   "cell_type": "code",
   "execution_count": null,
   "metadata": {},
   "outputs": [],
   "source": [
    "# load test data\n",
    "test = pd.read_csv(\"test.csv\")\n",
    "test = test.drop(columns=[\"Loan_Status\"]).values"
   ]
  },
  {
   "cell_type": "code",
   "execution_count": null,
   "metadata": {},
   "outputs": [],
   "source": [
    "# Load model\n",
    "xgb_model = sagemaker.predictor.Predictor(endpoint_name=\"xgboost-version\")\n",
    "xgb_model.serializer = CSVSerializer()"
   ]
  },
  {
   "cell_type": "code",
   "execution_count": null,
   "metadata": {},
   "outputs": [],
   "source": [
    "# target_variant=None, endpoint distributes the test data based on the model weight.\n",
    "pred1 = xgb_model.predict(test, target_variant=None).decode('utf-8')\n",
    "print(pred1[:10])"
   ]
  },
  {
   "cell_type": "code",
   "execution_count": null,
   "metadata": {},
   "outputs": [],
   "source": [
    "pred1 = np.fromstring(pred1[1:], sep=',')"
   ]
  },
  {
   "cell_type": "code",
   "execution_count": null,
   "metadata": {},
   "outputs": [],
   "source": [
    "# target_variant=0.90-1\n",
    "pred2 = xgb_model.predict(test, target_variant=\"version-0.90-1\").decode('utf-8')  \n",
    "pred2 = np.fromstring(pred2[1:], sep=',')"
   ]
  },
  {
   "cell_type": "code",
   "execution_count": null,
   "metadata": {},
   "outputs": [],
   "source": [
    "# target_variant=1.3-1\n",
    "pred3 = xgb_model.predict(test, target_variant=\"version-1.3-1\").decode('utf-8')\n",
    "pred3 = np.fromstring(pred3[1:], sep=',')"
   ]
  },
  {
   "cell_type": "code",
   "execution_count": null,
   "metadata": {},
   "outputs": [],
   "source": [
    "print(f\"\"\"\n",
    "The number of predictions when:\n",
    "None = 0.90-1 = 1.3-1: {(sum((pred1 == pred2) & (pred2 == pred3)))}\n",
    "None = 0.90-1 != 1.3-1: {(sum((pred1 == pred2) & (pred2 != pred3)))}\n",
    "None != 0.90-1 = 1.3-1: {(sum((pred1 != pred2) & (pred2 == pred3)))}\n",
    "None = 1.3-1 != 0.90-1: {(sum((pred1 == pred3) & (pred2 != pred3)))}\n",
    "\"\"\")"
   ]
  },
  {
   "cell_type": "code",
   "execution_count": null,
   "metadata": {},
   "outputs": [],
   "source": [
    "# Delete the endpoints if not needed anymore.\n",
    "# xgb_model.delete_endpoint()"
   ]
  }
 ],
 "metadata": {
  "kernelspec": {
   "display_name": "Python 3",
   "language": "python",
   "name": "python3"
  },
  "language_info": {
   "codemirror_mode": {
    "name": "ipython",
    "version": 3
   },
   "file_extension": ".py",
   "mimetype": "text/x-python",
   "name": "python",
   "nbconvert_exporter": "python",
   "pygments_lexer": "ipython3",
   "version": "3.8.6rc1"
  },
  "toc": {
   "base_numbering": 1,
   "nav_menu": {},
   "number_sections": true,
   "sideBar": true,
   "skip_h1_title": false,
   "title_cell": "Table of Contents",
   "title_sidebar": "Contents",
   "toc_cell": false,
   "toc_position": {},
   "toc_section_display": true,
   "toc_window_display": false
  },
  "varInspector": {
   "cols": {
    "lenName": 16,
    "lenType": 16,
    "lenVar": 40
   },
   "kernels_config": {
    "python": {
     "delete_cmd_postfix": "",
     "delete_cmd_prefix": "del ",
     "library": "var_list.py",
     "varRefreshCmd": "print(var_dic_list())"
    },
    "r": {
     "delete_cmd_postfix": ") ",
     "delete_cmd_prefix": "rm(",
     "library": "var_list.r",
     "varRefreshCmd": "cat(var_dic_list()) "
    }
   },
   "types_to_exclude": [
    "module",
    "function",
    "builtin_function_or_method",
    "instance",
    "_Feature"
   ],
   "window_display": false
  }
 },
 "nbformat": 4,
 "nbformat_minor": 4
}
